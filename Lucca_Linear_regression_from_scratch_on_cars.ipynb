{
  "metadata": {
    "colab": {
      "provenance": [],
      "name": "Lucca Linear regression from scratch on cars",
      "include_colab_link": true
    },
    "kernelspec": {
      "name": "python3",
      "display_name": "Python 3",
      "language": "python"
    },
    "language_info": {
      "name": "python",
      "version": "3.10.14",
      "mimetype": "text/x-python",
      "codemirror_mode": {
        "name": "ipython",
        "version": 3
      },
      "pygments_lexer": "ipython3",
      "nbconvert_exporter": "python",
      "file_extension": ".py"
    },
    "kaggle": {
      "accelerator": "none",
      "dataSources": [
        {
          "sourceId": 76728,
          "databundleVersionId": 9057646,
          "sourceType": "competition"
        }
      ],
      "dockerImageVersionId": 30761,
      "isInternetEnabled": true,
      "language": "python",
      "sourceType": "notebook",
      "isGpuEnabled": false
    }
  },
  "nbformat_minor": 0,
  "nbformat": 4,
  "cells": [
    {
      "cell_type": "markdown",
      "metadata": {
        "id": "view-in-github",
        "colab_type": "text"
      },
      "source": [
        "<a href=\"https://colab.research.google.com/github/Luccarodriguezk/ML_fromScratch/blob/Linear-Regression/Lucca_Linear_regression_from_scratch_on_cars.ipynb\" target=\"_parent\"><img src=\"https://colab.research.google.com/assets/colab-badge.svg\" alt=\"Open In Colab\"/></a>"
      ]
    },
    {
      "cell_type": "code",
      "source": [
        "import pandas as pd\n",
        "import numpy as np\n",
        "import matplotlib.pyplot as plt\n",
        "import seaborn as sns\n",
        "\n",
        "import re\n",
        "import collections"
      ],
      "metadata": {
        "id": "BUm87-VLudda",
        "execution": {
          "iopub.status.busy": "2024-09-20T17:37:52.452087Z",
          "iopub.execute_input": "2024-09-20T17:37:52.453024Z",
          "iopub.status.idle": "2024-09-20T17:37:54.411689Z",
          "shell.execute_reply.started": "2024-09-20T17:37:52.452979Z",
          "shell.execute_reply": "2024-09-20T17:37:54.410493Z"
        },
        "trusted": true
      },
      "execution_count": null,
      "outputs": []
    },
    {
      "cell_type": "code",
      "source": [
        "df= pd.read_csv('/kaggle/input/playground-series-s4e9/train.csv')"
      ],
      "metadata": {
        "id": "07TAUqmAhrnu",
        "execution": {
          "iopub.status.busy": "2024-09-20T17:37:54.413812Z",
          "iopub.execute_input": "2024-09-20T17:37:54.414323Z",
          "iopub.status.idle": "2024-09-20T17:37:55.278886Z",
          "shell.execute_reply.started": "2024-09-20T17:37:54.414284Z",
          "shell.execute_reply": "2024-09-20T17:37:55.277849Z"
        },
        "trusted": true
      },
      "execution_count": null,
      "outputs": []
    },
    {
      "cell_type": "code",
      "source": [
        "df1 = pd.read_csv('/kaggle/input/playground-series-s4e9/test.csv')"
      ],
      "metadata": {
        "id": "lYHUhFLIP9bk",
        "execution": {
          "iopub.status.busy": "2024-09-20T17:37:55.280726Z",
          "iopub.execute_input": "2024-09-20T17:37:55.28118Z",
          "iopub.status.idle": "2024-09-20T17:37:55.780279Z",
          "shell.execute_reply.started": "2024-09-20T17:37:55.281114Z",
          "shell.execute_reply": "2024-09-20T17:37:55.779202Z"
        },
        "trusted": true
      },
      "execution_count": null,
      "outputs": []
    },
    {
      "cell_type": "code",
      "source": [
        "id = df['id'].to_list()\n",
        "model_year = df['model_year'].to_list()\n",
        "price = df['price'].to_list()\n",
        "engine = df['engine'].to_list()\n",
        "milage = df['milage'].to_list()\n",
        "brand =df['brand'].to_list()\n",
        "# transtyping the brand\n"
      ],
      "metadata": {
        "id": "PjQugdkHjkqe",
        "execution": {
          "iopub.status.busy": "2024-09-20T17:37:55.782595Z",
          "iopub.execute_input": "2024-09-20T17:37:55.783224Z",
          "iopub.status.idle": "2024-09-20T17:37:55.859531Z",
          "shell.execute_reply.started": "2024-09-20T17:37:55.78318Z",
          "shell.execute_reply": "2024-09-20T17:37:55.85821Z"
        },
        "trusted": true
      },
      "execution_count": null,
      "outputs": []
    },
    {
      "cell_type": "code",
      "source": [
        "id1 = df1['id'].to_list()\n",
        "model_year1 = df1['model_year'].to_list()\n",
        "\n",
        "engine1 = df1['engine'].to_list()\n",
        "milage1 = df1['milage'].to_list()\n",
        "brand1 =df1['brand'].to_list()"
      ],
      "metadata": {
        "id": "fsMIR4OaQDZ0",
        "execution": {
          "iopub.status.busy": "2024-09-20T17:37:55.861595Z",
          "iopub.execute_input": "2024-09-20T17:37:55.862983Z",
          "iopub.status.idle": "2024-09-20T17:37:55.897338Z",
          "shell.execute_reply.started": "2024-09-20T17:37:55.862932Z",
          "shell.execute_reply": "2024-09-20T17:37:55.896209Z"
        },
        "trusted": true
      },
      "execution_count": null,
      "outputs": []
    },
    {
      "cell_type": "code",
      "source": [
        "#find the different brands\n",
        "print(np.unique(brand))"
      ],
      "metadata": {
        "id": "CQkRNIHtM_hV",
        "execution": {
          "iopub.status.busy": "2024-09-20T17:37:55.898795Z",
          "iopub.execute_input": "2024-09-20T17:37:55.899459Z",
          "iopub.status.idle": "2024-09-20T17:37:55.994322Z",
          "shell.execute_reply.started": "2024-09-20T17:37:55.899415Z",
          "shell.execute_reply": "2024-09-20T17:37:55.99293Z"
        },
        "trusted": true
      },
      "execution_count": null,
      "outputs": []
    },
    {
      "cell_type": "code",
      "source": [
        "\n",
        "\n",
        "#assigning numerical values to different brands\n",
        "def num_brand(x):\n",
        "  for i in range(len(x)):\n",
        "\n",
        "    if x[i] in ['Audi','BMW','Mercedes-Benz','Lexus','Tesla','Porsche']:\n",
        "      x[i] = 5000\n",
        "    elif x[i] in ['Bentley','Bugatti','Ferrari','Lamborghini','Rolls-Royce','Maserati','McLaren','Aston']:\n",
        "      x[i] = 20000\n",
        "    else: x[i] = 500\n",
        "\n",
        "  return x\n",
        "\n",
        "n_brands= num_brand(brand)\n",
        "\n"
      ],
      "metadata": {
        "id": "E6OuNGB3Cs45",
        "execution": {
          "iopub.status.busy": "2024-09-20T17:37:55.995528Z",
          "iopub.execute_input": "2024-09-20T17:37:55.995873Z",
          "iopub.status.idle": "2024-09-20T17:37:56.067983Z",
          "shell.execute_reply.started": "2024-09-20T17:37:55.995837Z",
          "shell.execute_reply": "2024-09-20T17:37:56.066888Z"
        },
        "trusted": true
      },
      "execution_count": null,
      "outputs": []
    },
    {
      "cell_type": "code",
      "source": [
        "n_brands1= num_brand(brand1)"
      ],
      "metadata": {
        "id": "MxFJd89WQZYB",
        "execution": {
          "iopub.status.busy": "2024-09-20T17:37:56.069804Z",
          "iopub.execute_input": "2024-09-20T17:37:56.070514Z",
          "iopub.status.idle": "2024-09-20T17:37:56.121252Z",
          "shell.execute_reply.started": "2024-09-20T17:37:56.070464Z",
          "shell.execute_reply": "2024-09-20T17:37:56.120188Z"
        },
        "trusted": true
      },
      "execution_count": null,
      "outputs": []
    },
    {
      "cell_type": "code",
      "source": [
        "#take the HP of the engine out(the only judged valuable data)\n",
        "\n",
        "def extract_HP(engines):\n",
        "    HP = []\n",
        "\n",
        "    for engine in engines:\n",
        "        # Use regex to find the number before 'HP'\n",
        "        match = re.search(r'[\\d.]+(?=HP)', engine)\n",
        "\n",
        "        if match:\n",
        "            engines_HP = match.group()  # Extract the matched number\n",
        "            HP.append(float((engines_HP)))\n",
        "        else:\n",
        "            HP.append(350)  # Append None if no match is found\n",
        "\n",
        "\n",
        "    return HP  # Return the full list after processing all elements\n",
        "HP = extract_HP(engine)\n",
        "HP1 = extract_HP(engine1)\n",
        "#def extract_None(x):\n",
        "    #NotHP =[]\n",
        "    #a = 0\n",
        "   # for i in (x):\n",
        "       #locate the No HP engines\n",
        "   #     if i == 'None':\n",
        "   #       NotHP.append(a)\n",
        "   #     a += 1\n",
        "   # return NotHP\n",
        "#NotHP = extract_None(HP)\n",
        "\n"
      ],
      "metadata": {
        "id": "u086LCBtNi5b",
        "execution": {
          "iopub.status.busy": "2024-09-20T17:37:56.122582Z",
          "iopub.execute_input": "2024-09-20T17:37:56.122997Z",
          "iopub.status.idle": "2024-09-20T17:37:56.602088Z",
          "shell.execute_reply.started": "2024-09-20T17:37:56.122945Z",
          "shell.execute_reply": "2024-09-20T17:37:56.600913Z"
        },
        "trusted": true
      },
      "execution_count": null,
      "outputs": []
    },
    {
      "cell_type": "code",
      "source": [
        "print(np.where(n_brands == 5000 ))"
      ],
      "metadata": {
        "id": "gye2sJgXMDKK",
        "execution": {
          "iopub.status.busy": "2024-09-20T17:37:56.605321Z",
          "iopub.execute_input": "2024-09-20T17:37:56.606113Z",
          "iopub.status.idle": "2024-09-20T17:37:56.612333Z",
          "shell.execute_reply.started": "2024-09-20T17:37:56.606061Z",
          "shell.execute_reply": "2024-09-20T17:37:56.611099Z"
        },
        "trusted": true
      },
      "execution_count": null,
      "outputs": []
    },
    {
      "cell_type": "code",
      "source": [
        "#regression on the price and model year\n",
        "id_array = np.array(id)\n",
        "model_year_array = np.array(model_year)\n",
        "price_array = np.array(price)\n",
        "brand_array = np.array(n_brands)\n",
        "milage_array = np.array(milage)\n",
        "HP_array = np.array(HP)\n",
        "car = np.array((  model_year_array  , brand_array , milage_array , HP_array))\n",
        "print(car)\n",
        "\n",
        "def f_wb(x,w,y):\n",
        "  f_wb = np.dot(x,w) + y #creating a linear function\n",
        "  return f_wb\n",
        "def cost(x,y):\n",
        "  m =0 #mute variable for squaring\n",
        "  sum = 0\n",
        "\n",
        "  for i in range(len(id_array)):\n",
        "    m = (f_wb(car[:,i],x,y) - price_array[i])**2\n",
        "    sum += m\n",
        "  cost = sum/(2*len(id_array))\n",
        "  return cost\n",
        "\n",
        "\n",
        "\n"
      ],
      "metadata": {
        "id": "rtZooek7_lZH",
        "execution": {
          "iopub.status.busy": "2024-09-20T17:37:56.613464Z",
          "iopub.execute_input": "2024-09-20T17:37:56.613876Z",
          "iopub.status.idle": "2024-09-20T17:37:56.694801Z",
          "shell.execute_reply.started": "2024-09-20T17:37:56.613831Z",
          "shell.execute_reply": "2024-09-20T17:37:56.693482Z"
        },
        "trusted": true
      },
      "execution_count": null,
      "outputs": []
    },
    {
      "cell_type": "markdown",
      "source": [],
      "metadata": {
        "id": "KipMOh-q_IdD"
      }
    },
    {
      "cell_type": "code",
      "source": [
        "w= np.array([15.29,7.16,-0.192,0.71])\n",
        "b= 1.2\n",
        "\n",
        "\n",
        "def gradient_descent(w,b):\n",
        "  #minimizing the cost function\n",
        "\n",
        "  alpha= 2e-10\n",
        "  n= 0\n",
        "  p=0\n",
        "  b_final = 0\n",
        "  d = np.zeros(4)\n",
        "  for i in range(len(d)) :\n",
        "    for j in range (len(id_array)):\n",
        "      n = (f_wb(car[:,j],w,b) - price_array[j])*(car[i,:][j])\n",
        "      p += n\n",
        "    sum = p/len(id_array)\n",
        "    d[i] = sum\n",
        "\n",
        "  for i in range (4):\n",
        "    w[i] = w[i] - alpha*d[i]\n",
        "    b_final = b_final - alpha*d[i]\n",
        "\n",
        "  return w,b_final\n",
        "\n",
        "\n"
      ],
      "metadata": {
        "id": "MXXYUFPqoQBU",
        "execution": {
          "iopub.status.busy": "2024-09-20T17:37:56.696024Z",
          "iopub.execute_input": "2024-09-20T17:37:56.696371Z",
          "iopub.status.idle": "2024-09-20T17:37:56.703867Z",
          "shell.execute_reply.started": "2024-09-20T17:37:56.696334Z",
          "shell.execute_reply": "2024-09-20T17:37:56.702718Z"
        },
        "trusted": true
      },
      "execution_count": null,
      "outputs": []
    },
    {
      "cell_type": "code",
      "source": [
        "#repeat gradient descent until convergence\n",
        "while cost(w,b) > 3000000000:\n",
        "  w,b = gradient_descent(w,b)\n",
        "  print(w,b)\n",
        "  print(cost(w,b))"
      ],
      "metadata": {
        "id": "hsc5aX6w-2A1",
        "execution": {
          "iopub.status.busy": "2024-09-20T17:37:56.705615Z",
          "iopub.execute_input": "2024-09-20T17:37:56.706234Z",
          "iopub.status.idle": "2024-09-20T17:37:57.099036Z",
          "shell.execute_reply.started": "2024-09-20T17:37:56.706185Z",
          "shell.execute_reply": "2024-09-20T17:37:57.098161Z"
        },
        "trusted": true
      },
      "execution_count": null,
      "outputs": []
    },
    {
      "cell_type": "code",
      "source": [
        "#test\n",
        "final_price = []\n",
        "submission = id1\n",
        "car1 = np.array((  model_year1  , n_brands1 , milage1 , HP1))\n",
        "for i in range(len(id1)):\n",
        "    f_wb = np.dot(car1[:,i],w) + b\n",
        "    final_price.append(str(f_wb))\n",
        "for i in range(len(id1)):\n",
        "    submission[i] = str(submission[i])+','+final_price[i]\n",
        "\n",
        "print(submission[:100])\n"
      ],
      "metadata": {
        "id": "A0SwL72m8NWV",
        "execution": {
          "iopub.status.busy": "2024-09-20T17:37:57.100436Z",
          "iopub.execute_input": "2024-09-20T17:37:57.101305Z",
          "iopub.status.idle": "2024-09-20T17:37:57.531466Z",
          "shell.execute_reply.started": "2024-09-20T17:37:57.101258Z",
          "shell.execute_reply": "2024-09-20T17:37:57.530362Z"
        },
        "trusted": true
      },
      "execution_count": null,
      "outputs": []
    },
    {
      "cell_type": "code",
      "source": [
        "sample_submission = pd.read_csv(\"/kaggle/input/playground-series-s4e9/sample_submission.csv\")\n",
        "sample_submission[\"price\"] =  final_price\n",
        "sample_submission.to_csv('submission.csv',index=False)\n",
        "sample_submission.head()"
      ],
      "metadata": {
        "id": "hlvI329q5E1n",
        "execution": {
          "iopub.status.busy": "2024-09-20T17:37:57.532658Z",
          "iopub.execute_input": "2024-09-20T17:37:57.532971Z",
          "iopub.status.idle": "2024-09-20T17:37:57.772884Z",
          "shell.execute_reply.started": "2024-09-20T17:37:57.532938Z",
          "shell.execute_reply": "2024-09-20T17:37:57.771557Z"
        },
        "trusted": true
      },
      "execution_count": null,
      "outputs": []
    }
  ]
}