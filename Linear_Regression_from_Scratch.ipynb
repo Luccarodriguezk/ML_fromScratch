{
  "metadata": {
    "colab": {
      "provenance": [],
      "include_colab_link": true
    },
    "kernelspec": {
      "name": "python3",
      "display_name": "Python 3",
      "language": "python"
    },
    "language_info": {
      "name": "python",
      "version": "3.10.14",
      "mimetype": "text/x-python",
      "codemirror_mode": {
        "name": "ipython",
        "version": 3
      },
      "pygments_lexer": "ipython3",
      "nbconvert_exporter": "python",
      "file_extension": ".py"
    },
    "kaggle": {
      "accelerator": "none",
      "dataSources": [
        {
          "sourceId": 76728,
          "databundleVersionId": 9057646,
          "sourceType": "competition"
        }
      ],
      "dockerImageVersionId": 30761,
      "isInternetEnabled": true,
      "language": "python",
      "sourceType": "notebook",
      "isGpuEnabled": false
    }
  },
  "nbformat_minor": 0,
  "nbformat": 4,
  "cells": [
    {
      "cell_type": "markdown",
      "metadata": {
        "id": "view-in-github",
        "colab_type": "text"
      },
      "source": [
        "<a href=\"https://colab.research.google.com/github/Luccarodriguezk/ML_fromScratch/blob/Linear-Regression/Linear_Regression_from_Scratch.ipynb\" target=\"_parent\"><img src=\"https://colab.research.google.com/assets/colab-badge.svg\" alt=\"Open In Colab\"/></a>"
      ]
    },
    {
      "cell_type": "code",
      "source": [
        "import pandas as pd\n",
        "import numpy as np\n",
        "from sklearn.metrics import mean_squared_error\n"
      ],
      "metadata": {
        "id": "BUm87-VLudda",
        "execution": {
          "iopub.status.busy": "2024-09-20T17:37:52.452087Z",
          "iopub.execute_input": "2024-09-20T17:37:52.453024Z",
          "iopub.status.idle": "2024-09-20T17:37:54.411689Z",
          "shell.execute_reply.started": "2024-09-20T17:37:52.452979Z",
          "shell.execute_reply": "2024-09-20T17:37:54.410493Z"
        },
        "trusted": true
      },
      "execution_count": 99,
      "outputs": []
    },
    {
      "cell_type": "code",
      "source": [
        "#regression on the price and model year\n",
        "x = np.array([1,2,3,4,5,6,7,8,9,10])\n",
        "x = x.reshape(5,2)\n",
        "y = np.array([1,2,3,4,5])\n",
        "y = y.reshape(5,1)\n",
        "l = x.shape\n",
        "#example data\n",
        "\n",
        "def f_wb(w,b):\n",
        "  s=0\n",
        "  for i in x.T:\n",
        "    f_wb = np.dot(i,w) + b\n",
        "    s += f_wb #creating a linear function\n",
        "  return s\n",
        "def cost(w,b):\n",
        "  m =0 #mute variable for squaring\n",
        "  sum = 0\n",
        "\n",
        "  for i in range(x.shape[1]):\n",
        "    m = (f_wb(w,b) - y[i])**2\n",
        "    sum += m\n",
        "\n",
        "  cost = sum/(2*(x.shape[1]))\n",
        "  return cost[0]\n",
        "\n",
        "\n",
        "\n",
        "def gradient_descent(w,b):\n",
        "  #minimizing the cost function\n",
        "\n",
        "  alpha= 0.0013 #learning rate\n",
        "\n",
        "  limit = 1\n",
        "  dw_sum = 0\n",
        "  db_sum = 0\n",
        "  while cost(w,b) > limit:\n",
        "      for i in range(x.shape[1]):\n",
        "        dw_sum += (f_wb(w,b) - y[i])*x[i]\n",
        "        db_sum += (f_wb(w,b) - y[i])\n",
        "      dw = dw_sum/x.shape[1]\n",
        "      db = db_sum/x.shape[1]\n",
        "\n",
        "      #update parameters\n",
        "      for i in range(x.shape[0]):\n",
        "        w[i] = w[i] - alpha*dw[0]\n",
        "        b = b - alpha*db[0]\n",
        "\n",
        "  return w,b\n",
        "first_lim = 10000\n",
        "w = np.zeros(x.shape[0])\n",
        "b = 0 #use values inside your dataset\n",
        "while cost(w,b) > first_lim:\n", 
        "      w = np.random.choice(x)\n" #i used a variation of gradient descent, which helps converge faster, something like Stochastic Gradient Descent,
        "      b = np.random.choice(x)\n",
        "y_pred =gradient_descent(w,b)\n",
        "\n"
      ],
      "metadata": {
        "id": "rtZooek7_lZH",
        "execution": {
          "iopub.status.busy": "2024-09-20T17:37:56.613464Z",
          "iopub.execute_input": "2024-09-20T17:37:56.613876Z",
          "iopub.status.idle": "2024-09-20T17:37:56.694801Z",
          "shell.execute_reply.started": "2024-09-20T17:37:56.613831Z",
          "shell.execute_reply": "2024-09-20T17:37:56.693482Z"
        },
        "trusted": true
      },
      "execution_count": 100,
      "outputs": []
    },
    {
      "cell_type": "code",
      "source": [],
      "metadata": {
        "id": "7_Asq1g5cm2l"
      },
      "execution_count": 100,
      "outputs": []
    }
  ]
}
